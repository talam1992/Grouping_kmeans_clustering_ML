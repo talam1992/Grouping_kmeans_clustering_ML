{
 "cells": [
  {
   "cell_type": "code",
   "execution_count": 101,
   "metadata": {},
   "outputs": [],
   "source": [
    "from numpy import *\n",
    "import json\n",
    "import urllib\n",
    "from time import sleep\n",
    "import matplotlib\n",
    "import matplotlib.pyplot as plt"
   ]
  },
  {
   "cell_type": "code",
   "execution_count": 66,
   "metadata": {},
   "outputs": [],
   "source": [
    "def loadDataSet(fileName):\n",
    "    dataMat = []\n",
    "    fr = open(fileName)\n",
    "    for line in fr.readlines():\n",
    "        curLine = line.strip().split('\\t')\n",
    "        fltLine = map(float,curLine)\n",
    "        dataMat.append(fltLine)\n",
    "    return dataMat"
   ]
  },
  {
   "cell_type": "code",
   "execution_count": 67,
   "metadata": {},
   "outputs": [],
   "source": [
    "def distEclud(vecA, vecB):\n",
    "    return sqrt(sum(power(vecA - vecB, 2)))\n",
    "\n",
    "def randCent(dataSet, k):\n",
    "    n = shape(dataSet)[1]\n",
    "    centroids = mat(zeros((k,n)))\n",
    "    for j in range(n):\n",
    "        minJ = min(dataSet[:,j])\n",
    "        rangeJ = float(max(dataSet[:,j]) - minJ)\n",
    "        centroids[:,j] = minJ + rangeJ * random.rand(k,1)\n",
    "    return centroids"
   ]
  },
  {
   "cell_type": "code",
   "execution_count": 68,
   "metadata": {},
   "outputs": [],
   "source": [
    "datMat = mat(loadDataSet('testSet.txt'))"
   ]
  },
  {
   "cell_type": "code",
   "execution_count": 69,
   "metadata": {},
   "outputs": [
    {
     "data": {
      "text/plain": [
       "matrix([[-3.642001]])"
      ]
     },
     "execution_count": 69,
     "metadata": {},
     "output_type": "execute_result"
    }
   ],
   "source": [
    "min(datMat[:,0])"
   ]
  },
  {
   "cell_type": "code",
   "execution_count": 70,
   "metadata": {},
   "outputs": [
    {
     "data": {
      "text/plain": [
       "matrix([[-3.181888]])"
      ]
     },
     "execution_count": 70,
     "metadata": {},
     "output_type": "execute_result"
    }
   ],
   "source": [
    "min(datMat[:,1])"
   ]
  },
  {
   "cell_type": "code",
   "execution_count": 71,
   "metadata": {},
   "outputs": [
    {
     "data": {
      "text/plain": [
       "matrix([[14.739025]])"
      ]
     },
     "execution_count": 71,
     "metadata": {},
     "output_type": "execute_result"
    }
   ],
   "source": [
    "max(datMat[:,1])"
   ]
  },
  {
   "cell_type": "code",
   "execution_count": 72,
   "metadata": {},
   "outputs": [
    {
     "data": {
      "text/plain": [
       "matrix([[3.01015]])"
      ]
     },
     "execution_count": 72,
     "metadata": {},
     "output_type": "execute_result"
    }
   ],
   "source": [
    "max(datMat[:,0])"
   ]
  },
  {
   "cell_type": "code",
   "execution_count": 73,
   "metadata": {},
   "outputs": [
    {
     "data": {
      "text/plain": [
       "matrix([[-2.97879999,  0.82108671,  0.29458297],\n",
       "        [ 0.63442908,  4.84363092,  0.01095521]])"
      ]
     },
     "execution_count": 73,
     "metadata": {},
     "output_type": "execute_result"
    }
   ],
   "source": [
    "randCent(datMat, 2)"
   ]
  },
  {
   "cell_type": "code",
   "execution_count": 74,
   "metadata": {},
   "outputs": [
    {
     "data": {
      "text/plain": [
       "9.543629647362316"
      ]
     },
     "execution_count": 74,
     "metadata": {},
     "output_type": "execute_result"
    }
   ],
   "source": [
    "distEclud(datMat[0], datMat[1])"
   ]
  },
  {
   "cell_type": "code",
   "execution_count": 75,
   "metadata": {},
   "outputs": [],
   "source": [
    "def kMeans(dataSet, k, distMeas=distEclud, createCent=randCent):\n",
    "    m = shape(dataSet)[0]\n",
    "    clusterAssment = mat(zeros((m,2)))\n",
    "    centroids = createCent(dataSet, k)\n",
    "    clusterChanged = True\n",
    "    while clusterChanged:\n",
    "        clusterChanged = False\n",
    "        for i in range(m):\n",
    "            minDist = inf; minIndex = -1\n",
    "            for j in range(k):\n",
    "                distJI = distMeas(centroids[j,:],dataSet[i,:])\n",
    "                if distJI < minDist:\n",
    "                    minDist = distJI; minIndex = j\n",
    "            if clusterAssment[i,0] != minIndex: \n",
    "                clusterChanged = True\n",
    "                clusterAssment[i,:] = minIndex,minDist**2\n",
    "        print centroids\n",
    "        for cent in range(k):\n",
    "            ptsInClust = dataSet[nonzero(clusterAssment[:,0].A==cent)[0]]\n",
    "            centroids[cent,:] = mean(ptsInClust, axis=0)\n",
    "    return centroids, clusterAssment"
   ]
  },
  {
   "cell_type": "code",
   "execution_count": 76,
   "metadata": {},
   "outputs": [],
   "source": [
    "datMat = mat(loadDataSet('testSet.txt'))"
   ]
  },
  {
   "cell_type": "code",
   "execution_count": 77,
   "metadata": {},
   "outputs": [
    {
     "name": "stdout",
     "output_type": "stream",
     "text": [
      "[[-1.23640664 10.21446205  0.41975326]\n",
      " [-1.64357045  5.3522385   0.49410224]\n",
      " [-3.36584568  2.88253884  0.32925403]\n",
      " [-3.47007025 -2.88113207  0.56750464]]\n",
      "[[ 0.27220728 10.75407423  0.06382979]\n",
      " [ 0.22000844  4.87507516  0.90625   ]\n",
      " [-0.43892118  1.06526991  1.        ]\n",
      " [-1.2004659  -1.5550863   1.        ]]\n",
      "[[ 2.22053667e-01  1.08922436e+01  4.44444444e-02]\n",
      " [ 2.48238379e-01  5.45941928e+00  8.62068966e-01]\n",
      " [-1.11053333e-03  1.63627400e+00  1.00000000e+00]\n",
      " [-1.28849545e+00 -1.40065736e+00  1.00000000e+00]]\n",
      "[[ 0.23614175 10.9566492   0.04545455]\n",
      " [ 0.14494896  5.89087158  0.80769231]\n",
      " [ 0.15872421  1.98752658  1.        ]\n",
      " [-1.28849545 -1.40065736  1.        ]]\n",
      "[[ 0.16245633 11.08085274  0.        ]\n",
      " [ 0.30305115  6.14853096  0.81481481]\n",
      " [ 0.18455763  2.16546005  1.        ]\n",
      " [-1.29257683 -1.24490767  1.        ]]\n",
      "[[ 0.16245633 11.08085274  0.        ]\n",
      " [ 0.37641704  6.31607868  0.8       ]\n",
      " [ 0.10999965  2.4596187   1.        ]\n",
      " [-1.187105   -1.14455046  1.        ]]\n",
      "[[ 0.16245633 11.08085274  0.        ]\n",
      " [ 0.42758579  6.39692817  0.79166667]\n",
      " [ 0.07726545  2.656195    1.        ]\n",
      " [-1.11637957 -1.03107079  1.        ]]\n",
      "[[ 1.62456333e-01  1.10808527e+01  0.00000000e+00]\n",
      " [ 5.06856217e-01  6.47233630e+00  7.82608696e-01]\n",
      " [ 7.12738095e-03  2.75173529e+00  1.00000000e+00]\n",
      " [-1.11637957e+00 -1.03107079e+00  1.00000000e+00]]\n"
     ]
    }
   ],
   "source": [
    "myCentroids, clustAssing = kMeans(datMat,4)"
   ]
  },
  {
   "cell_type": "code",
   "execution_count": 78,
   "metadata": {},
   "outputs": [
    {
     "data": {
      "text/plain": [
       "matrix([[ 1.62456333e-01,  1.10808527e+01,  0.00000000e+00],\n",
       "        [ 5.06856217e-01,  6.47233630e+00,  7.82608696e-01],\n",
       "        [ 7.12738095e-03,  2.75173529e+00,  1.00000000e+00],\n",
       "        [-1.11637957e+00, -1.03107079e+00,  1.00000000e+00]])"
      ]
     },
     "execution_count": 78,
     "metadata": {},
     "output_type": "execute_result"
    }
   ],
   "source": [
    "myCentroids"
   ]
  },
  {
   "cell_type": "code",
   "execution_count": 79,
   "metadata": {},
   "outputs": [
    {
     "data": {
      "text/plain": [
       "matrix([[ 0.        ,  0.        ],\n",
       "        [ 2.        ,  6.19485706],\n",
       "        [ 1.        ,  2.44625604],\n",
       "        [ 1.        ,  3.58951871],\n",
       "        [ 0.        ,  0.        ],\n",
       "        [ 1.        ,  7.40111387],\n",
       "        [ 0.        ,  0.        ],\n",
       "        [ 1.        ,  3.2166464 ],\n",
       "        [ 0.        ,  0.        ],\n",
       "        [ 0.        ,  0.        ],\n",
       "        [ 1.        ,  8.93490925],\n",
       "        [ 0.        ,  0.        ],\n",
       "        [ 2.        ,  3.73068717],\n",
       "        [ 0.        ,  0.        ],\n",
       "        [ 1.        ,  1.57320703],\n",
       "        [ 2.        , 20.59017687],\n",
       "        [ 1.        ,  3.51761237],\n",
       "        [ 2.        ,  2.80493995],\n",
       "        [ 3.        ,  3.50442572],\n",
       "        [ 1.        ,  7.48278616],\n",
       "        [ 2.        ,  6.48775484],\n",
       "        [ 3.        ,  8.74250124],\n",
       "        [ 0.        ,  0.        ],\n",
       "        [ 3.        , 11.38757136],\n",
       "        [ 2.        ,  2.03500747],\n",
       "        [ 0.        ,  0.        ],\n",
       "        [ 0.        ,  0.        ],\n",
       "        [ 3.        ,  1.81189528],\n",
       "        [ 2.        ,  3.66388158],\n",
       "        [ 0.        ,  0.        ],\n",
       "        [ 2.        ,  3.65224578],\n",
       "        [ 1.        ,  5.98645975],\n",
       "        [ 0.        ,  0.        ],\n",
       "        [ 3.        ,  4.91677256],\n",
       "        [ 1.        ,  8.48283358],\n",
       "        [ 0.        ,  0.        ],\n",
       "        [ 0.        ,  0.        ],\n",
       "        [ 0.        ,  0.        ],\n",
       "        [ 0.        ,  0.        ],\n",
       "        [ 0.        ,  0.        ],\n",
       "        [ 2.        ,  2.95665757],\n",
       "        [ 1.        ,  8.03629688],\n",
       "        [ 0.        ,  0.        ],\n",
       "        [ 2.        , 26.30947108],\n",
       "        [ 2.        ,  4.20103903],\n",
       "        [ 0.        ,  0.        ],\n",
       "        [ 3.        ,  8.46289889],\n",
       "        [ 1.        ,  4.08871814],\n",
       "        [ 0.        ,  0.        ],\n",
       "        [ 0.        ,  0.        ],\n",
       "        [ 0.        ,  0.        ],\n",
       "        [ 0.        ,  0.        ],\n",
       "        [ 1.        ,  7.91524213],\n",
       "        [ 0.        ,  0.        ],\n",
       "        [ 1.        , 10.288996  ],\n",
       "        [ 1.        ,  5.49589374],\n",
       "        [ 0.        ,  0.        ],\n",
       "        [ 1.        , 10.5467826 ],\n",
       "        [ 0.        ,  0.        ],\n",
       "        [ 1.        ,  2.25916062],\n",
       "        [ 2.        ,  4.8698925 ],\n",
       "        [ 2.        , 16.17081514],\n",
       "        [ 0.        ,  0.        ],\n",
       "        [ 0.        ,  0.        ],\n",
       "        [ 0.        ,  0.        ],\n",
       "        [ 3.        ,  9.26119604],\n",
       "        [ 1.        , 18.94574998],\n",
       "        [ 0.        ,  0.        ],\n",
       "        [ 0.        ,  0.        ],\n",
       "        [ 0.        ,  0.        ],\n",
       "        [ 0.        ,  0.        ],\n",
       "        [ 3.        ,  3.49554611],\n",
       "        [ 0.        ,  0.        ],\n",
       "        [ 2.        ,  3.35959455],\n",
       "        [ 0.        ,  0.        ],\n",
       "        [ 1.        ,  8.72670236],\n",
       "        [ 3.        , 11.61495353],\n",
       "        [ 2.        ,  4.31675003],\n",
       "        [ 1.        , 14.05474734],\n",
       "        [ 2.        ,  4.59607041],\n",
       "        [ 1.        ,  0.76571558],\n",
       "        [ 3.        ,  6.00602911],\n",
       "        [ 0.        ,  0.        ],\n",
       "        [ 1.        , 14.55095004],\n",
       "        [ 2.        ,  7.01268179],\n",
       "        [ 3.        ,  8.44753464],\n",
       "        [ 2.        ,  4.47611369],\n",
       "        [ 0.        ,  0.        ],\n",
       "        [ 1.        , 11.80498924],\n",
       "        [ 3.        ,  3.58210309],\n",
       "        [ 3.        , 17.54765235],\n",
       "        [ 0.        ,  0.        ],\n",
       "        [ 0.        ,  0.        ],\n",
       "        [ 2.        , 16.48619671],\n",
       "        [ 2.        , 10.42703106],\n",
       "        [ 2.        ,  3.47173725],\n",
       "        [ 0.        ,  0.        ],\n",
       "        [ 3.        ,  3.82329736],\n",
       "        [ 0.        ,  0.        ],\n",
       "        [ 0.        ,  0.        ]])"
      ]
     },
     "execution_count": 79,
     "metadata": {},
     "output_type": "execute_result"
    }
   ],
   "source": [
    "clustAssing"
   ]
  },
  {
   "cell_type": "code",
   "execution_count": 85,
   "metadata": {},
   "outputs": [],
   "source": [
    "def showPlt(datMat, alg=kMeans, numClust=4):\n",
    "    myCentroids, clustAssing = alg(datMat, numClust)\n",
    "    fig = plt.figure()\n",
    "    rect=[0.1,0.1,0.8,0.8]\n",
    "    scatterMarkers=['s', 'o', '^', '8', 'p', \\\n",
    "                    'd', 'v', 'h', '>', '<']\n",
    "    axprops = dict(xticks=[], yticks=[])\n",
    "    ax0=fig.add_axes(rect, label='ax0', **axprops)\n",
    "    ax1=fig.add_axes(rect, label='ax1', frameon=False)\n",
    "    for i in range(numClust):\n",
    "        ptsInCurrCluster = datMat[nonzero(clustAssing[:,0].A==i)[0],:]\n",
    "        markerStyle = scatterMarkers[i % len(scatterMarkers)]\n",
    "        ax1.scatter(ptsInCurrCluster[:,0].flatten().A[0], ptsInCurrCluster[:,1].flatten().A[0], marker=markerStyle, s=90)\n",
    "    ax1.scatter(myCentroids[:,0].flatten().A[0], myCentroids[:,1].flatten().A[0], marker='+', s=300)\n",
    "    plt.show()"
   ]
  },
  {
   "cell_type": "code",
   "execution_count": 113,
   "metadata": {},
   "outputs": [],
   "source": [
    "def biKmeans(dataSet, k, distMeas=distEclud):\n",
    "    m = shape(dataSet)[0]\n",
    "    clusterAssment = mat(zeros((m,2)))\n",
    "    centroid0 = mean(dataSet, axis=0).tolist()[0]\n",
    "    centList =[centroid0] \n",
    "    for j in range(m):\n",
    "        clusterAssment[j,1] = distMeas(mat(centroid0), dataSet[j,:])**2\n",
    "    while (len(centList) < k):\n",
    "        lowestSSE = inf\n",
    "        for i in range(len(centList)):\n",
    "            ptsInCurrCluster = dataSet[nonzero(clusterAssment[:,0].A==i)[0],:]\n",
    "            centroidMat, splitClustAss = kMeans(ptsInCurrCluster, 2, distMeas)\n",
    "            sseSplit = sum(splitClustAss[:,1])#compare the SSE to the currrent minimum\n",
    "            sseNotSplit = sum(clusterAssment[nonzero(clusterAssment[:,0].A!=i)[0],1])\n",
    "            print(\"sseSplit, and notSplit: \",sseSplit,sseNotSplit)\n",
    "            if (sseSplit + sseNotSplit) < lowestSSE:\n",
    "                bestCentToSplit = i\n",
    "                bestNewCents = centroidMat\n",
    "                bestClustAss = splitClustAss.copy()\n",
    "                lowestSSE = sseSplit + sseNotSplit\n",
    "        bestClustAss[nonzero(bestClustAss[:,0].A == 1)[0],0] = len(centList) #change 1 to 3,4, or whatever\n",
    "        bestClustAss[nonzero(bestClustAss[:,0].A == 0)[0],0] = bestCentToSplit\n",
    "        print('the bestCentToSplit is: ',bestCentToSplit)\n",
    "        print('the len of bestClustAss is: ', len(bestClustAss))\n",
    "        centList[bestCentToSplit] = bestNewCents[0,:].tolist()[0]#replace a centroid with two best centroids \n",
    "        centList.append(bestNewCents[1,:].tolist()[0])\n",
    "        clusterAssment[nonzero(clusterAssment[:,0].A == bestCentToSplit)[0],:]= bestClustAss#reassign new clusters, and SSE\n",
    "    return mat(centList), clusterAssment"
   ]
  },
  {
   "cell_type": "code",
   "execution_count": 114,
   "metadata": {},
   "outputs": [
    {
     "name": "stdout",
     "output_type": "stream",
     "text": [
      "[[ 1.50823067 -1.5782224   0.96655492]\n",
      " [-1.83593992 10.17359146  0.81659648]\n",
      " [-1.27054651  0.39931263  0.34360292]\n",
      " [ 2.06187272  7.64286222  0.65130072]]\n",
      "[[-0.1731076  -1.4387152   1.        ]\n",
      " [-0.10888024 11.16136508  0.02702703]\n",
      " [-0.4871367   1.6848342   1.        ]\n",
      " [ 0.80390814  7.18889436  0.60714286]]\n",
      "[[-1.08419109 -1.40828427  1.        ]\n",
      " [ 0.1312391  11.18330825  0.        ]\n",
      " [-0.14806404  2.45177404  1.        ]\n",
      " [ 0.5292518   6.6770888   0.72      ]]\n",
      "[[-1.18710500e+00 -1.14455046e+00  1.00000000e+00]\n",
      " [ 1.61906683e-01  1.11383982e+01  0.00000000e+00]\n",
      " [-2.14881818e-03  2.64684573e+00  1.00000000e+00]\n",
      " [ 4.93445208e-01  6.56605096e+00  7.50000000e-01]]\n",
      "[[-1.11637957e+00 -1.03107079e+00  1.00000000e+00]\n",
      " [ 1.61906683e-01  1.11383982e+01  0.00000000e+00]\n",
      " [ 7.12738095e-03  2.75173529e+00  1.00000000e+00]\n",
      " [ 4.93445208e-01  6.56605096e+00  7.50000000e-01]]\n"
     ]
    },
    {
     "data": {
      "image/png": "[encoded data removed]",
      "text/plain": [
       "<Figure size 432x288 with 2 Axes>"
      ]
     },
     "metadata": {
      "needs_background": "light"
     },
     "output_type": "display_data"
    }
   ],
   "source": [
    "showPlt(datMat)"
   ]
  },
  {
   "cell_type": "code",
   "execution_count": 115,
   "metadata": {},
   "outputs": [],
   "source": [
    "datMat3 = mat(loadDataSet('testSet2.txt'))"
   ]
  },
  {
   "cell_type": "code",
   "execution_count": 116,
   "metadata": {},
   "outputs": [
    {
     "name": "stdout",
     "output_type": "stream",
     "text": [
      "[[1.15702087 0.50697077]\n",
      " [2.28073746 1.15280365]]\n",
      "[[-1.70351595  0.27408125]\n",
      " [ 2.93386365  3.12782785]]\n",
      "('sseSplit, and notSplit: ', 126.0751866158818, 0.0)\n",
      "('the bestCentToSplit is: ', 0)\n",
      "('the len of bestClustAss is: ', 60)\n",
      "[[-3.50920685 -2.69523347]\n",
      " [ 0.5488927   1.29577142]]\n",
      "[[-0.659857   -2.75179183]\n",
      " [-2.55741873  2.74979559]]\n",
      "[[-0.45965615 -2.7782156 ]\n",
      " [-2.94737575  3.3263781 ]]\n",
      "('sseSplit, and notSplit: ', 355.57770485774734, 126.07518661588179)\n",
      "[[1.5498554  3.38200905]\n",
      " [2.91383257 2.04090407]]\n",
      "[[2.00830612 3.640614  ]\n",
      " [3.550902   2.78597042]]\n",
      "[[2.02712544 3.50141167]\n",
      " [3.67574036 2.82216836]]\n",
      "('sseSplit, and notSplit: ', 33.11076726995082, 0.0)\n",
      "('the bestCentToSplit is: ', 1)\n",
      "('the len of bestClustAss is: ', 20)\n"
     ]
    }
   ],
   "source": [
    "centList, myNewAssments = biKmeans(datMat3,3)"
   ]
  },
  {
   "cell_type": "code",
   "execution_count": 117,
   "metadata": {},
   "outputs": [
    {
     "data": {
      "text/plain": [
       "matrix([[-1.70351595,  0.27408125],\n",
       "        [ 2.02712544,  3.50141167],\n",
       "        [ 3.67574036,  2.82216836]])"
      ]
     },
     "execution_count": 117,
     "metadata": {},
     "output_type": "execute_result"
    }
   ],
   "source": [
    "centList"
   ]
  },
  {
   "cell_type": "code",
   "execution_count": 118,
   "metadata": {},
   "outputs": [
    {
     "name": "stdout",
     "output_type": "stream",
     "text": [
      "[[-1.01245275 -1.82778531  0.77418043]\n",
      " [-2.67421871 13.42183277  0.31167649]]\n",
      "[[-0.1729813   2.09311611  1.        ]\n",
      " [ 0.18950709 10.09846234  0.16071429]]\n",
      "[[-0.23098741  2.09213514  0.97727273]\n",
      " [ 0.23508332 10.09923311  0.17857143]]\n",
      "('sseSplit, and notSplit: ', 1401.1832479427817, 0.0)\n",
      "('the bestCentToSplit is: ', 0)\n",
      "('the len of bestClustAss is: ', 100)\n",
      "[[-2.03997632  1.58801971  0.45996274]\n",
      " [-1.58719043 -0.78940296  0.39952984]]\n",
      "[[ 0.14875121  3.65311966  0.96551724]\n",
      " [-0.96514873 -0.92576827  1.        ]]\n",
      "[[ 0.18027648  3.84435663  0.96296296]\n",
      " [-0.88417124 -0.69080488  1.        ]]\n",
      "[[ 0.22949704  3.92728288  0.96153846]\n",
      " [-0.89613161 -0.55863383  1.        ]]\n",
      "('sseSplit, and notSplit: ', 64.09766367346707, 1382.6435274431517)\n",
      "[[ 1.42855356 13.29136902  0.07903693]\n",
      " [-2.11133262  9.61454079  0.29794007]]\n",
      "[[ 0.83630937 12.14190232  0.05263158]\n",
      " [-0.07365438  9.05029486  0.24324324]]\n",
      "[[ 0.31580929 12.12096679  0.        ]\n",
      " [ 0.17453884  8.58293284  0.3125    ]]\n",
      "[[ 0.22115019 11.94805422  0.        ]\n",
      " [ 0.24805555  8.3779169   0.34482759]]\n",
      "[[ 0.17229493 11.83601469  0.        ]\n",
      " [ 0.3025227   8.23380104  0.37037037]]\n",
      "('sseSplit, and notSplit: ', 321.44370514193315, 18.539720499630373)\n",
      "('the bestCentToSplit is: ', 1)\n",
      "('the len of bestClustAss is: ', 56)\n",
      "[[-1.52804935  2.35872943  0.3882224 ]\n",
      " [-0.32137505 -2.04907554  0.47548921]]\n",
      "[[-0.03174282  3.24149548  0.96969697]\n",
      " [-0.82872118 -1.35594591  1.        ]]\n",
      "[[ 0.14875121  3.65311966  0.96551724]\n",
      " [-0.96514873 -0.92576827  1.        ]]\n",
      "[[ 0.18027648  3.84435663  0.96296296]\n",
      " [-0.88417124 -0.69080488  1.        ]]\n",
      "[[ 0.22949704  3.92728288  0.96153846]\n",
      " [-0.89613161 -0.55863383  1.        ]]\n",
      "('sseSplit, and notSplit: ', 66.8035500360617, 321.44370514193315)\n",
      "[[-0.65488255 13.39159827  0.        ]\n",
      " [-0.44581772 10.48151133  0.        ]]\n",
      "[[ 0.49234125 13.03710525  0.        ]\n",
      " [-0.05362012 10.98818606  0.        ]]\n",
      "[[ 0.67599891 13.11769855  0.        ]\n",
      " [-0.13552417 11.05276344  0.        ]]\n",
      "('sseSplit, and notSplit: ', 28.409659619167186, 300.2823689940549)\n",
      "[[ 2.92203188  7.80244883  0.74443218]\n",
      " [-0.25132614  9.56508795  0.12162036]]\n",
      "[[ 1.327176    7.05171763  0.875     ]\n",
      " [-0.12891026  8.73152037  0.15789474]]\n",
      "[[ 1.19078656  7.02773111  0.88888889]\n",
      " [-0.14160922  8.836836    0.11111111]]\n",
      "[[ 0.9964922   6.97882     0.8       ]\n",
      " [-0.10569465  8.97202518  0.11764706]]\n",
      "('sseSplit, and notSplit: ', 48.858991733861686, 58.2407771471391)\n",
      "('the bestCentToSplit is: ', 2)\n",
      "('the len of bestClustAss is: ', 27)\n"
     ]
    },
    {
     "data": {
      "image/png": "[encoded data removed]",
      "text/plain": [
       "<Figure size 432x288 with 2 Axes>"
      ]
     },
     "metadata": {
      "needs_background": "light"
     },
     "output_type": "display_data"
    }
   ],
   "source": [
    "showPlt(datMat, alg=biKmeans)"
   ]
  },
  {
   "cell_type": "code",
   "execution_count": 119,
   "metadata": {},
   "outputs": [
    {
     "name": "stdout",
     "output_type": "stream",
     "text": [
      "[[-0.7902799   1.57479613]\n",
      " [ 2.81549309 -3.35593067]\n",
      " [ 0.0673237   1.51646154]\n",
      " [-1.23415079 -3.69582544]]\n",
      "[[-2.85434624  3.12586329]\n",
      " [ 0.81867067 -3.34850767]\n",
      " [ 2.93386365  3.12782785]\n",
      " [-0.66596119 -2.78964725]]\n",
      "[[-2.94737575  3.3263781 ]\n",
      " [ 0.54907857 -3.33938171]\n",
      " [ 2.93386365  3.12782785]\n",
      " [-1.002821   -2.47604923]]\n",
      "[[-2.94737575  3.3263781 ]\n",
      " [ 0.35496167 -3.36033556]\n",
      " [ 2.93386365  3.12782785]\n",
      " [-1.12616164 -2.30193564]]\n"
     ]
    },
    {
     "data": {
      "image/png": "[encoded data removed]",
      "text/plain": [
       "<Figure size 432x288 with 2 Axes>"
      ]
     },
     "metadata": {
      "needs_background": "light"
     },
     "output_type": "display_data"
    }
   ],
   "source": [
    "showPlt(datMat3)"
   ]
  },
  {
   "cell_type": "code",
   "execution_count": 120,
   "metadata": {},
   "outputs": [
    {
     "name": "stdout",
     "output_type": "stream",
     "text": [
      "[[ 1.00910973 -3.61569766]\n",
      " [-0.79155189  0.5091009 ]]\n",
      "[[-0.26162575 -3.11178156]\n",
      " [-0.11993984  2.80246164]]\n",
      "[[-0.45965615 -2.7782156 ]\n",
      " [-0.00675605  3.22710297]]\n",
      "('sseSplit, and notSplit: ', 760.7692913692283, 0.0)\n",
      "('the bestCentToSplit is: ', 0)\n",
      "('the len of bestClustAss is: ', 60)\n",
      "[[-1.34263042 -2.81488598]\n",
      " [-0.59902169 -1.95316891]]\n",
      "[[-1.07271363 -3.0785125 ]\n",
      " [-0.05095117 -2.57801767]]\n",
      "[[-1.19949912 -2.88385775]\n",
      " [ 0.0335725  -2.7077875 ]]\n",
      "[[-1.25330489 -2.47552567]\n",
      " [ 0.18969282 -3.025871  ]]\n",
      "[[-1.26405367 -2.209896  ]\n",
      " [ 0.19848727 -3.24320436]]\n",
      "[[-1.1836084 -2.2507069]\n",
      " [ 0.2642961 -3.3057243]]\n",
      "[[-1.12616164 -2.30193564]\n",
      " [ 0.35496167 -3.36033556]]\n",
      "('sseSplit, and notSplit: ', 35.582027751311216, 744.0138313058336)\n",
      "[[-1.69532702  3.71142173]\n",
      " [ 2.80830007  0.52941613]]\n",
      "[[-2.37180191  3.3769933 ]\n",
      " [ 3.19301188  3.02431018]]\n",
      "[[-2.94737575  3.3263781 ]\n",
      " [ 2.93386365  3.12782785]]\n",
      "('sseSplit, and notSplit: ', 149.41926453936503, 16.75546006339464)\n",
      "('the bestCentToSplit is: ', 1)\n",
      "('the len of bestClustAss is: ', 40)\n",
      "[[-0.12095562 -4.10505438]\n",
      " [-0.176415   -1.17033064]]\n",
      "[[-0.12904858 -3.31832792]\n",
      " [-0.9555675  -1.96804713]]\n",
      "[[ 0.07973025 -3.24942808]\n",
      " [-1.26873575 -2.07139688]]\n",
      "[[ 0.19848727 -3.24320436]\n",
      " [-1.26405367 -2.209896  ]]\n",
      "[[ 0.2642961 -3.3057243]\n",
      " [-1.1836084 -2.2507069]]\n",
      "[[ 0.35496167 -3.36033556]\n",
      " [-1.12616164 -2.30193564]]\n",
      "('sseSplit, and notSplit: ', 19.759249065065006, 149.41926453936503)\n",
      "[[-3.28905988  1.75147432]\n",
      " [-0.84774981  1.63784   ]]\n",
      "[[-3.30393094  3.26416112]\n",
      " [-1.521155    3.575246  ]]\n",
      "[[-3.58362738  3.28784469]\n",
      " [-1.76576557  3.39794014]]\n",
      "('sseSplit, and notSplit: ', 21.03913385434903, 166.17472460275968)\n",
      "[[4.26284264 4.24360364]\n",
      " [1.70520726 2.13702484]]\n",
      "[[3.77787887 3.59266825]\n",
      " [2.37118683 2.81793425]]\n",
      "[[3.90960329 3.60829214]\n",
      " [2.40846538 2.86911631]]\n",
      "[[4.2819634  3.658577  ]\n",
      " [2.48449707 2.95091147]]\n",
      "('sseSplit, and notSplit: ', 33.460166907310956, 16.75546006339464)\n",
      "('the bestCentToSplit is: ', 2)\n",
      "('the len of bestClustAss is: ', 20)\n"
     ]
    },
    {
     "data": {
      "image/png": "[encoded data removed]",
      "text/plain": [
       "<Figure size 432x288 with 2 Axes>"
      ]
     },
     "metadata": {
      "needs_background": "light"
     },
     "output_type": "display_data"
    }
   ],
   "source": [
    "showPlt(datMat3, alg=biKmeans)"
   ]
  },
  {
   "cell_type": "code",
   "execution_count": 157,
   "metadata": {},
   "outputs": [],
   "source": [
    "def geoGrab(stAddress, city):\n",
    "    apiStem = 'http://where.yahooapis.com/geocode?'  #create a dict and constants for the goecoder\n",
    "    params = {}\n",
    "    params['flags'] = 'J'#JSON return type\n",
    "    params['appid'] = 'aaa0VN6k'\n",
    "    params['location'] = '%s %s' % (stAddress, city)\n",
    "    url_params = urllib.parse.urlencode(params)\n",
    "    yahooApi = apiStem + url_params      #print url_params\n",
    "    print(yahooApi)\n",
    "    c=urllib.request.urlopen(yahooApi)\n",
    "    return json.loads(c.read())\n",
    "\n",
    "def massPlaceFind(fileName):\n",
    "    fw = open('places.txt', 'w')\n",
    "    for line in open(fileName).readlines():\n",
    "        line = line.strip()\n",
    "        lineArr = line.split('\\t')\n",
    "        retDict = geoGrab(lineArr[1], lineArr[2])\n",
    "        if retDict['ResultSet']['Error'] == 0:\n",
    "            lat = float(retDict['ResultSet']['Results'][0]['latitude'])\n",
    "            lng = float(retDict['ResultSet']['Results'][0]['longitude'])\n",
    "            print(\"%s\\t%f\\t%f\" % (lineArr[0], lat, lng))\n",
    "            fw.write('%s\\t%f\\t%f\\n' % (line, lat, lng))\n",
    "        else: print(\"error fetching\")\n",
    "        sleep(1)\n",
    "    fw.close()"
   ]
  },
  {
   "cell_type": "code",
   "execution_count": 156,
   "metadata": {},
   "outputs": [],
   "source": [
    "#geoResults = kMeans.geoGrab('1 VA Center', 'Augusta, ME') http://where.yahooapis.com/geocode?flags=J&location=1+VA+Center+Augusta%2C+ME&appid=ppp68N6k\n",
    "#geoResults"
   ]
  },
  {
   "cell_type": "code",
   "execution_count": 160,
   "metadata": {},
   "outputs": [],
   "source": [
    "#geoResults['ResultSet']['Error']\n",
    "#geoResults['ResultSet']['Results'][0]['longitude']\n",
    "#geoResults['ResultSet']['Results'][0]['latitude']"
   ]
  },
  {
   "cell_type": "code",
   "execution_count": 161,
   "metadata": {},
   "outputs": [],
   "source": [
    "#massPlaceFind('portlandClubs.txt')"
   ]
  },
  {
   "cell_type": "code",
   "execution_count": 162,
   "metadata": {},
   "outputs": [],
   "source": [
    "def distSLC(vecA, vecB):#Spherical Law of Cosines\n",
    "    a = sin(vecA[0,1]*pi/100) * sin(vecB[0,1]*pi/100)\n",
    "    b = cos(vecA[0,1]*pi/100) * cos(vecB[0,1]*pi/100) \n",
    "    return arccos(a + b)*6371.0 #pi is imported with numpy\n",
    "\n",
    "def clusterClubs(numClust=5):\n",
    "    datList = []\n",
    "    for line in open('places.txt').readlines():\n",
    "        lineArr = line.split('\\t')\n",
    "        datList.append([float(lineArr[4]), float(lineArr[3])])\n",
    "    datMat = mat(datList)\n",
    "    myCentroids, clustAssing = biKmeans(datMat, numClust, distMeas=distSLC)\n",
    "    fig = plt.figure()\n",
    "    rect=[0.1,0.1,0.1,0.1]\n",
    "    scatterMarkers=['s', 'o', '^', '8', 'p', \\\n",
    "                    'd', 'v', 'h', '>', '<']\n",
    "    axprops = dict(xticks=[], yticks=[])\n",
    "    ax0=fig.add_axes(rect, label='ax0', **axprops)\n",
    "    imgP = plt.imread('Portland.png')\n",
    "    ax0.imshow(imgP)\n",
    "    ax1=fig.add_axes(rect, label='ax1', frameon=False)\n",
    "    for i in range(numClust):\n",
    "        ptsInCurrCluster = datMat[nonzero(clustAssing[:,0].A==i)[0],:]\n",
    "        markerStyle = scatterMarkers[i % len(scatterMarkers)]\n",
    "        ax1.scatter(ptsInCurrCluster[:,0].flatten().A[0], ptsInCurrCluster[:,1].flatten().A[0], marker=markerStyle, s=90)\n",
    "    ax1.scatter(myCentroids[:,0].flatten().A[0], myCentroids[:,1].flatten().A[0], marker='+', s=300)\n",
    "    plt.show()"
   ]
  },
  {
   "cell_type": "code",
   "execution_count": 163,
   "metadata": {},
   "outputs": [],
   "source": [
    "#clusterClubs"
   ]
  },
  {
   "cell_type": "code",
   "execution_count": null,
   "metadata": {},
   "outputs": [],
   "source": []
  }
 ],
 "metadata": {
  "kernelspec": {
   "display_name": "Python 2",
   "language": "python",
   "name": "python2"
  },
  "language_info": {
   "codemirror_mode": {
    "name": "ipython",
    "version": 2
   },
   "file_extension": ".py",
   "mimetype": "text/x-python",
   "name": "python",
   "nbconvert_exporter": "python",
   "pygments_lexer": "ipython2",
   "version": "2.7.15"
  }
 },
 "nbformat": 4,
 "nbformat_minor": 2
}
